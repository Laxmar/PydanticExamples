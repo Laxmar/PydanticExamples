{
 "cells": [
  {
   "cell_type": "code",
   "execution_count": 10,
   "metadata": {},
   "outputs": [
    {
     "name": "stdout",
     "output_type": "stream",
     "text": [
      "description='This is a book' title='MY BOOK' description_length=14\n"
     ]
    }
   ],
   "source": [
    "from pydantic import BaseModel\n",
    "from typing import Any\n",
    "\n",
    "\n",
    "class BookInformation(BaseModel):\n",
    "    description: str\n",
    "    title: str\n",
    "    description_length: int = 0\n",
    "\n",
    "    def model_post_init(self, __context: Any):\n",
    "        self.description_length = len(self.description)\n",
    "        self.title = self.title.upper()\n",
    "\n",
    "book = BookInformation(description=\"This is a book\", title=\"My Book\")\n",
    "print(book)"
   ]
  },
  {
   "cell_type": "code",
   "execution_count": 13,
   "metadata": {},
   "outputs": [
    {
     "name": "stdout",
     "output_type": "stream",
     "text": [
      "width=10.0 height=20.0 area=200.0\n"
     ]
    }
   ],
   "source": [
    "from pydantic import computed_field\n",
    "\n",
    "class BoundingBox(BaseModel):\n",
    "    width: float\n",
    "    height: float\n",
    "\n",
    "    @computed_field\n",
    "    def area(self) -> float:\n",
    "        return self.width * self.height\n",
    "\n",
    "box = BoundingBox(width=10, height=20)\n",
    "print(box)"
   ]
  }
 ],
 "metadata": {
  "kernelspec": {
   "display_name": "env",
   "language": "python",
   "name": "python3"
  },
  "language_info": {
   "codemirror_mode": {
    "name": "ipython",
    "version": 3
   },
   "file_extension": ".py",
   "mimetype": "text/x-python",
   "name": "python",
   "nbconvert_exporter": "python",
   "pygments_lexer": "ipython3",
   "version": "3.10.9"
  }
 },
 "nbformat": 4,
 "nbformat_minor": 2
}
