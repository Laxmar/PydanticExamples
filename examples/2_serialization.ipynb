{
 "cells": [
  {
   "cell_type": "code",
   "execution_count": null,
   "metadata": {},
   "outputs": [],
   "source": [
    "from pydantic import BaseModel\n",
    "from  typing import Any\n",
    "from utils.file_utils import load_file, save_file\n",
    "\n",
    "\n",
    "class PersonPydantic(BaseModel):\n",
    "\tname: str\n",
    "\tage: int = 0\n",
    "\temail: str | None = None\n",
    "\n",
    "martin = PersonPydantic(name=\"Martin\", age=33, email=\"martin@doublephd.com\")"
   ]
  },
  {
   "cell_type": "code",
   "execution_count": null,
   "metadata": {},
   "outputs": [],
   "source": [
    "# Export to dict\n",
    "martin_dict_data: dict[str, Any] = martin.model_dump()\n",
    "print(f'Dict: {martin_dict_data}')"
   ]
  },
  {
   "cell_type": "code",
   "execution_count": null,
   "metadata": {},
   "outputs": [],
   "source": [
    "# Export to dict with exclude\n",
    "martin_dict_data = martin.model_dump(exclude={\"email\"})\n",
    "\n",
    "print(f'Dict: {martin_dict_data}')\n",
    "print(f'Email: {martin_dict_data.get(\"email\", \"Not found\")}')"
   ]
  },
  {
   "cell_type": "code",
   "execution_count": 8,
   "metadata": {},
   "outputs": [],
   "source": [
    "### Save to Json\n",
    "martin_json_data: str = martin.model_dump_json(exclude={\"email\"}, indent=4)\n",
    "save_file(martin_json_data, \"martin.json\")"
   ]
  },
  {
   "cell_type": "code",
   "execution_count": 10,
   "metadata": {},
   "outputs": [
    {
     "name": "stdout",
     "output_type": "stream",
     "text": [
      "Loaded: name='Martin' age=25 email=None\n"
     ]
    }
   ],
   "source": [
    "# Load from json\n",
    "json_data = load_file(\"martin.json\")\n",
    "martin: PersonPydantic = PersonPydantic.model_validate_json(json_data)\n",
    "print(f'Loaded: {martin}')"
   ]
  }
 ],
 "metadata": {
  "kernelspec": {
   "display_name": "env",
   "language": "python",
   "name": "python3"
  },
  "language_info": {
   "codemirror_mode": {
    "name": "ipython",
    "version": 3
   },
   "file_extension": ".py",
   "mimetype": "text/x-python",
   "name": "python",
   "nbconvert_exporter": "python",
   "pygments_lexer": "ipython3",
   "version": "3.10.9"
  }
 },
 "nbformat": 4,
 "nbformat_minor": 2
}
