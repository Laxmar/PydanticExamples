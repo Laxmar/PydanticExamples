{
 "cells": [
  {
   "cell_type": "code",
   "execution_count": 4,
   "metadata": {},
   "outputs": [],
   "source": [
    "from pydantic import BaseModel\n",
    "from  typing import Any\n",
    "\n",
    "class PersonPydantic(BaseModel):\n",
    "\tname: str\n",
    "\tage: int = 0\n",
    "\temail: str | None = None\n",
    "\n",
    "martin = PersonPydantic(name=\"Martin\", age=25, email=\"martin@doublephd.com\")"
   ]
  },
  {
   "cell_type": "code",
   "execution_count": 6,
   "metadata": {},
   "outputs": [
    {
     "name": "stdout",
     "output_type": "stream",
     "text": [
      "Dict: {'name': 'Martin', 'age': 25, 'email': 'martin@doublephd.com'}\n"
     ]
    }
   ],
   "source": [
    "martin_dict_data: dict[str, Any] = martin.model_dump()\n",
    "print(f'Dict: {martin_dict_data}')\n"
   ]
  },
  {
   "cell_type": "code",
   "execution_count": 7,
   "metadata": {},
   "outputs": [
    {
     "name": "stdout",
     "output_type": "stream",
     "text": [
      "Dict Name: Not found\n"
     ]
    }
   ],
   "source": [
    "martin_dict_data = martin.model_dump(exclude={\"email\"})\n",
    "\n",
    "print(f'Name: {martin_dict_data.get(\"email\", \"Not found\")}')"
   ]
  },
  {
   "cell_type": "code",
   "execution_count": 3,
   "metadata": {},
   "outputs": [
    {
     "name": "stdout",
     "output_type": "stream",
     "text": [
      "JSON: {\"name\":\"Martin\",\"age\":25}\n",
      "Read from json file: name='Martin' age=25 email=None\n"
     ]
    }
   ],
   "source": [
    "from utils.file_utils import load_json, save_json\n",
    "### JSON Serialization\n",
    "\n",
    "martin_json_data = martin.model_dump_json(exclude={\"email\"})\n",
    "save_json(\"martin.json\", martin_json_data)\n",
    "\n",
    "######\n",
    "json_data = load_json(\"martin.json\")\n",
    "martin: PersonPydantic = PersonPydantic.model_validate_json(json_data)"
   ]
  }
 ],
 "metadata": {
  "kernelspec": {
   "display_name": "env",
   "language": "python",
   "name": "python3"
  },
  "language_info": {
   "codemirror_mode": {
    "name": "ipython",
    "version": 3
   },
   "file_extension": ".py",
   "mimetype": "text/x-python",
   "name": "python",
   "nbconvert_exporter": "python",
   "pygments_lexer": "ipython3",
   "version": "3.10.9"
  }
 },
 "nbformat": 4,
 "nbformat_minor": 2
}
