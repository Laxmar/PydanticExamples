{
 "cells": [
  {
   "cell_type": "code",
   "execution_count": 1,
   "metadata": {},
   "outputs": [],
   "source": [
    "from pydantic import BaseModel\n",
    "\n",
    "class PersonPydantic(BaseModel):\n",
    "\tname: str\n",
    "\tage: int = 0\n",
    "\temail: str | None = None\n",
    "\n",
    "martin = PersonPydantic(name=\"Martin\", age=25, email=\"martin@doublephd.com\")"
   ]
  },
  {
   "cell_type": "code",
   "execution_count": 2,
   "metadata": {},
   "outputs": [
    {
     "name": "stdout",
     "output_type": "stream",
     "text": [
      "Dict: {'name': 'Martin', 'age': 25, 'email': 'martin@doublephd.com'}\n",
      "Dict Name:Martin\n",
      "Dict email: {'name': 'Martin', 'age': 25, 'email': 'martin@doublephd.com'}\n",
      "\n",
      "Dump to dictionary without email\n",
      "Dict without email: {'name': 'Martin', 'age': 25}\n",
      "Dict Name: Not found\n"
     ]
    }
   ],
   "source": [
    "# Serialization into dictionary\n",
    "martin_dict_data = martin.model_dump()\n",
    "print(f'Dict: {martin_dict_data}')\n",
    "print(f'Dict Name:{martin_dict_data[\"name\"]}')\n",
    "\n",
    "martin_dict_data = martin.model_dump()\n",
    "print(f'Dict email: {martin_dict_data}')\n",
    "\n",
    "# Dump to dictionary without email\n",
    "print('\\nDump to dictionary without email')\n",
    "martin_dict_data = martin.model_dump(exclude={\"email\"})\n",
    "print(f'Dict without email: {martin_dict_data}')\n",
    "print(f'Dict Name: {martin_dict_data.get(\"email\", \"Not found\")}')"
   ]
  },
  {
   "cell_type": "code",
   "execution_count": 3,
   "metadata": {},
   "outputs": [
    {
     "name": "stdout",
     "output_type": "stream",
     "text": [
      "JSON: {\"name\":\"Martin\",\"age\":25}\n",
      "Read from json file: name='Martin' age=25 email=None\n"
     ]
    }
   ],
   "source": [
    "### JSON Serialization\n",
    "martin_json_data = martin.model_dump_json(exclude={\"email\"})\n",
    "print(f'JSON: {martin_json_data}')\n",
    "# save json file\n",
    "with open(\"martin.json\", \"w\") as f:\n",
    "    f.write(martin_json_data)\n",
    "\n",
    "# Load from json file\n",
    "with open(\"martin.json\", \"r\") as f:\n",
    "    martin_json_read_data = f.read()\n",
    "    martin = PersonPydantic.model_validate_json(martin_json_read_data)\n",
    "    print(f'Read from json file: {martin}')"
   ]
  }
 ],
 "metadata": {
  "kernelspec": {
   "display_name": "env",
   "language": "python",
   "name": "python3"
  },
  "language_info": {
   "codemirror_mode": {
    "name": "ipython",
    "version": 3
   },
   "file_extension": ".py",
   "mimetype": "text/x-python",
   "name": "python",
   "nbconvert_exporter": "python",
   "pygments_lexer": "ipython3",
   "version": "3.10.9"
  }
 },
 "nbformat": 4,
 "nbformat_minor": 2
}
