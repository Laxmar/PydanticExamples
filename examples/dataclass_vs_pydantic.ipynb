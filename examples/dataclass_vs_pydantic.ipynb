{
 "cells": [
  {
   "cell_type": "code",
   "execution_count": 15,
   "metadata": {},
   "outputs": [],
   "source": [
    "from dataclasses import dataclass\n",
    "from pydantic import BaseModel"
   ]
  },
  {
   "cell_type": "code",
   "execution_count": 16,
   "metadata": {},
   "outputs": [],
   "source": [
    "@dataclass\n",
    "class PersonDataClass:\n",
    "\tname: str\n",
    "\tage: int = 0\n",
    "\temail: str | None = None"
   ]
  },
  {
   "cell_type": "code",
   "execution_count": 17,
   "metadata": {},
   "outputs": [],
   "source": [
    "class PersonPydantic(BaseModel):\n",
    "\tname: str\n",
    "\tage: int = 0\n",
    "\temail: str | None = None"
   ]
  },
  {
   "cell_type": "code",
   "execution_count": 18,
   "metadata": {},
   "outputs": [
    {
     "name": "stdout",
     "output_type": "stream",
     "text": [
      "Using Dataclass: PersonDataClass(name='Peter', age=35, email=None)\n",
      "Using Pydantic: name='Peter' age=35 email=None\n"
     ]
    }
   ],
   "source": [
    "# Simple usage\n",
    "peter_dataclass = PersonDataClass(name=\"Peter\", age=35)\n",
    "print(f'Using Dataclass: {peter_dataclass}')\n",
    "peter_pydantic = PersonPydantic(name=\"Peter\", age=35)\n",
    "print(f'Using Pydantic: {peter_pydantic}')"
   ]
  },
  {
   "cell_type": "code",
   "execution_count": 19,
   "metadata": {},
   "outputs": [
    {
     "name": "stdout",
     "output_type": "stream",
     "text": [
      "Using Dataclass: PersonDataClass(name='Peter', age=35, email=None)\n"
     ]
    },
    {
     "ename": "TypeError",
     "evalue": "BaseModel.__init__() takes 1 positional argument but 3 were given",
     "output_type": "error",
     "traceback": [
      "\u001b[0;31m---------------------------------------------------------------------------\u001b[0m",
      "\u001b[0;31mTypeError\u001b[0m                                 Traceback (most recent call last)",
      "Cell \u001b[0;32mIn[19], line 5\u001b[0m\n\u001b[1;32m      2\u001b[0m \u001b[38;5;28mprint\u001b[39m(\u001b[38;5;124mf\u001b[39m\u001b[38;5;124m'\u001b[39m\u001b[38;5;124mUsing Dataclass: \u001b[39m\u001b[38;5;132;01m{\u001b[39;00mpeter_dataclass\u001b[38;5;132;01m}\u001b[39;00m\u001b[38;5;124m'\u001b[39m)\n\u001b[1;32m      4\u001b[0m \u001b[38;5;66;03m# We Pydantic cannot use without positional arguments\u001b[39;00m\n\u001b[0;32m----> 5\u001b[0m peter_pydantic \u001b[38;5;241m=\u001b[39m \u001b[43mPersonPydantic\u001b[49m\u001b[43m(\u001b[49m\u001b[38;5;124;43m\"\u001b[39;49m\u001b[38;5;124;43mPeter\u001b[39;49m\u001b[38;5;124;43m\"\u001b[39;49m\u001b[43m,\u001b[49m\u001b[43m \u001b[49m\u001b[38;5;241;43m35\u001b[39;49m\u001b[43m)\u001b[49m\n\u001b[1;32m      6\u001b[0m \u001b[38;5;28mprint\u001b[39m(\u001b[38;5;124mf\u001b[39m\u001b[38;5;124m'\u001b[39m\u001b[38;5;124mUsing Pydantic: \u001b[39m\u001b[38;5;132;01m{\u001b[39;00mpeter_pydantic\u001b[38;5;132;01m}\u001b[39;00m\u001b[38;5;124m'\u001b[39m)\n",
      "\u001b[0;31mTypeError\u001b[0m: BaseModel.__init__() takes 1 positional argument but 3 were given"
     ]
    }
   ],
   "source": [
    "peter_dataclass = PersonDataClass(\"Peter\", 35)\n",
    "print(f'Using Dataclass: {peter_dataclass}')\n",
    "\n",
    "# We Pydantic cannot use without positional arguments\n",
    "peter_pydantic = PersonPydantic(\"Peter\", 35)\n",
    "print(f'Using Pydantic: {peter_pydantic}')"
   ]
  },
  {
   "cell_type": "code",
   "execution_count": null,
   "metadata": {},
   "outputs": [
    {
     "name": "stdout",
     "output_type": "stream",
     "text": [
      "Using Dataclass: PersonDataClass(name='Martin', age=35, email='martin@doublephd.com')\n",
      "Using Pydantic: name='Martin' age=35 email='martin@doublephd.com'\n",
      "Using Pydantic: name='Martin' age=35 email='martin@doublephd.com'\n"
     ]
    }
   ],
   "source": [
    "# Initialize with dictionary\n",
    "martin_data = {\"name\": \"Martin\", \"age\": 35, \"email\": \"martin@doublephd.com\"}\n",
    "martin_dataclass = PersonDataClass(**martin_data)\n",
    "print(f'Using Dataclass: {martin_dataclass}')\n",
    "\n",
    "martin_pydantic = PersonPydantic(**martin_data)\n",
    "print(f'Using Pydantic: {martin_pydantic}')\n",
    "\n",
    "# The same\n",
    "martin_pydantic = PersonPydantic.model_validate(martin_data)\n",
    "print(f'Using Pydantic: {martin_pydantic}')"
   ]
  },
  {
   "cell_type": "code",
   "execution_count": null,
   "metadata": {},
   "outputs": [
    {
     "name": "stdout",
     "output_type": "stream",
     "text": [
      "Dict: {'name': 'Martin', 'age': 35, 'email': 'martin@doublephd.com'}\n",
      "Dict Name:Martin\n",
      "Dict email: {'name': 'Martin', 'age': 35, 'email': 'martin@doublephd.com'}\n",
      "Dict Email:martin@doublephd.com\n",
      "\n",
      "Dump to dictionary without email\n",
      "Dict without email: {'name': 'Martin', 'age': 35}\n",
      "Dict Name: Not found\n"
     ]
    }
   ],
   "source": [
    "# Dump to dictionary\n",
    "martin_dict_data = martin_pydantic.model_dump()\n",
    "print(f'Dict: {martin_dict_data}')\n",
    "print(f'Dict Name:{martin_dict_data[\"name\"]}')\n",
    "\n",
    "martin_dict_data = martin_pydantic.model_dump()\n",
    "print(f'Dict email: {martin_dict_data}')\n",
    "\n",
    "# Dump to dictionary without email\n",
    "print('\\nDump to dictionary without email')\n",
    "martin_dict_data = martin_pydantic.model_dump(exclude={\"email\"})\n",
    "print(f'Dict without email: {martin_dict_data}')\n",
    "print(f'Dict Name: {martin_dict_data.get(\"email\", \"Not found\")}')"
   ]
  },
  {
   "cell_type": "code",
   "execution_count": null,
   "metadata": {},
   "outputs": [
    {
     "name": "stdout",
     "output_type": "stream",
     "text": [
      "JSON: {\"name\":\"Martin\",\"age\":35}\n",
      "Read from json file: name='Martin' age=35 email=None\n"
     ]
    }
   ],
   "source": [
    "### JSON operations\n",
    "martin_json_data = martin_pydantic.model_dump_json(exclude={\"email\"})\n",
    "print(f'JSON: {martin_json_data}')\n",
    "# save json file\n",
    "with open(\"martin.json\", \"w\") as f:\n",
    "    f.write(martin_json_data)\n",
    "\n",
    "# Load from json file\n",
    "with open(\"martin.json\", \"r\") as f:\n",
    "    martin_json_read_data = f.read()\n",
    "    martin_pydantic = PersonPydantic.model_validate_json(martin_json_read_data)\n",
    "    print(f'Read from json file: {martin_pydantic}')"
   ]
  },
  {
   "cell_type": "code",
   "execution_count": null,
   "metadata": {},
   "outputs": [
    {
     "name": "stdout",
     "output_type": "stream",
     "text": [
      "Using Dataclass: {'age': 'John', 'name': 35}\n"
     ]
    },
    {
     "ename": "ValidationError",
     "evalue": "2 validation errors for PersonPydantic\nname\n  Input should be a valid string [type=string_type, input_value=35, input_type=int]\n    For further information visit https://errors.pydantic.dev/2.6/v/string_type\nage\n  Input should be a valid integer, unable to parse string as an integer [type=int_parsing, input_value='John', input_type=str]\n    For further information visit https://errors.pydantic.dev/2.6/v/int_parsing",
     "output_type": "error",
     "traceback": [
      "\u001b[0;31m---------------------------------------------------------------------------\u001b[0m",
      "\u001b[0;31mValidationError\u001b[0m                           Traceback (most recent call last)",
      "Cell \u001b[0;32mIn[10], line 8\u001b[0m\n\u001b[1;32m      5\u001b[0m \u001b[38;5;28mprint\u001b[39m(\u001b[38;5;124mf\u001b[39m\u001b[38;5;124m'\u001b[39m\u001b[38;5;124mUsing Dataclass: \u001b[39m\u001b[38;5;132;01m{\u001b[39;00mjohn_data\u001b[38;5;132;01m}\u001b[39;00m\u001b[38;5;124m'\u001b[39m)\n\u001b[1;32m      6\u001b[0m \u001b[38;5;66;03m# No Validation!\u001b[39;00m\n\u001b[0;32m----> 8\u001b[0m john_pydantic \u001b[38;5;241m=\u001b[39m \u001b[43mPersonPydantic\u001b[49m\u001b[43m(\u001b[49m\u001b[38;5;241;43m*\u001b[39;49m\u001b[38;5;241;43m*\u001b[39;49m\u001b[43mjohn_data\u001b[49m\u001b[43m)\u001b[49m\n\u001b[1;32m      9\u001b[0m \u001b[38;5;28mprint\u001b[39m(\u001b[38;5;124mf\u001b[39m\u001b[38;5;124m'\u001b[39m\u001b[38;5;124mUsing Pydantic: \u001b[39m\u001b[38;5;132;01m{\u001b[39;00mjohn_pydantic\u001b[38;5;132;01m}\u001b[39;00m\u001b[38;5;124m'\u001b[39m)\n",
      "File \u001b[0;32m~/Documents/PrivateRepos/PydanticExamples2/env/lib/python3.10/site-packages/pydantic/main.py:171\u001b[0m, in \u001b[0;36mBaseModel.__init__\u001b[0;34m(self, **data)\u001b[0m\n\u001b[1;32m    169\u001b[0m \u001b[38;5;66;03m# `__tracebackhide__` tells pytest and some other tools to omit this function from tracebacks\u001b[39;00m\n\u001b[1;32m    170\u001b[0m __tracebackhide__ \u001b[38;5;241m=\u001b[39m \u001b[38;5;28;01mTrue\u001b[39;00m\n\u001b[0;32m--> 171\u001b[0m \u001b[38;5;28;43mself\u001b[39;49m\u001b[38;5;241;43m.\u001b[39;49m\u001b[43m__pydantic_validator__\u001b[49m\u001b[38;5;241;43m.\u001b[39;49m\u001b[43mvalidate_python\u001b[49m\u001b[43m(\u001b[49m\u001b[43mdata\u001b[49m\u001b[43m,\u001b[49m\u001b[43m \u001b[49m\u001b[43mself_instance\u001b[49m\u001b[38;5;241;43m=\u001b[39;49m\u001b[38;5;28;43mself\u001b[39;49m\u001b[43m)\u001b[49m\n",
      "\u001b[0;31mValidationError\u001b[0m: 2 validation errors for PersonPydantic\nname\n  Input should be a valid string [type=string_type, input_value=35, input_type=int]\n    For further information visit https://errors.pydantic.dev/2.6/v/string_type\nage\n  Input should be a valid integer, unable to parse string as an integer [type=int_parsing, input_value='John', input_type=str]\n    For further information visit https://errors.pydantic.dev/2.6/v/int_parsing"
     ]
    }
   ],
   "source": [
    "### Validation\n",
    "\n",
    "john_data = {\"age\": \"John\", \"name\": 35}\n",
    "john_dataclass = PersonDataClass(**john_data)\n",
    "print(f'Using Dataclass: {john_data}')\n",
    "# No Validation!\n",
    "\n",
    "john_pydantic = PersonPydantic(**john_data)\n",
    "print(f'Using Pydantic: {john_pydantic}')"
   ]
  },
  {
   "cell_type": "code",
   "execution_count": null,
   "metadata": {},
   "outputs": [
    {
     "name": "stdout",
     "output_type": "stream",
     "text": [
      "Using Dataclass: PersonDataClass(name='Jacob', age='44', email=None)\n",
      "Type of age: <class 'str'>\n",
      "Using Pydantic: name='Jacob' age=44 email=None\n",
      "Type of age: <class 'int'>\n"
     ]
    }
   ],
   "source": [
    "## Coercions\n",
    "\n",
    "jacob = {\"name\": \"Jacob\", \"age\": \"44\" }\n",
    "jacob_dataclass = PersonDataClass(**jacob)\n",
    "print(f'Using Dataclass: {jacob_dataclass}')\n",
    "print(f'Type of age: {type(jacob_dataclass.age)}')\n",
    "\n",
    "jacob_pydantic = PersonPydantic(**jacob)\n",
    "print(f'Using Pydantic: {jacob_pydantic}')\n",
    "print(f'Type of age: {type(jacob_pydantic.age)}')"
   ]
  },
  {
   "cell_type": "code",
   "execution_count": null,
   "metadata": {},
   "outputs": [],
   "source": [
    "\n",
    "# Validation with Pydantic\n",
    "from pydantic import EmailStr, Field, PositiveInt\n",
    "# EmailStr requires pip install pydantic[email]\n",
    "\n",
    "class PersonWithValidation(BaseModel):\n",
    "    name: str = Field(min_length=3, max_length=50)\n",
    "    age: PositiveInt\n",
    "    email: EmailStr | None = None\n",
    "\n",
    "peter = PersonWithValidation(name=\"Peter\", age=35, email=\"peter@my.com\")"
   ]
  },
  {
   "cell_type": "code",
   "execution_count": 20,
   "metadata": {},
   "outputs": [
    {
     "name": "stdout",
     "output_type": "stream",
     "text": [
      "1 validation error for PersonWithValidation\n",
      "age\n",
      "  Input should be greater than 0 [type=greater_than, input_value=-35, input_type=int]\n",
      "    For further information visit https://errors.pydantic.dev/2.6/v/greater_than\n"
     ]
    }
   ],
   "source": [
    "from pydantic import ValidationError\n",
    "\n",
    "\n",
    "negative_age_data = {\"name\": \"Peter\", \"age\": -35}\n",
    "try:\n",
    "    peter = PersonWithValidation(**negative_age_data)\n",
    "except ValidationError as e:\n",
    "    print(e)"
   ]
  },
  {
   "cell_type": "code",
   "execution_count": 21,
   "metadata": {},
   "outputs": [
    {
     "name": "stdout",
     "output_type": "stream",
     "text": [
      "1 validation error for PersonWithValidation\n",
      "name\n",
      "  String should have at least 3 characters [type=string_too_short, input_value='Pe', input_type=str]\n",
      "    For further information visit https://errors.pydantic.dev/2.6/v/string_too_short\n"
     ]
    }
   ],
   "source": [
    "to_short_name_data = {\"name\": \"Pe\", \"age\": 35}\n",
    "try:\n",
    "    peter = PersonWithValidation(**to_short_name_data)\n",
    "except ValidationError as e:\n",
    "    print(e)"
   ]
  },
  {
   "cell_type": "code",
   "execution_count": 22,
   "metadata": {},
   "outputs": [
    {
     "name": "stdout",
     "output_type": "stream",
     "text": [
      "1 validation error for PersonWithValidation\n",
      "email\n",
      "  value is not a valid email address: The email address is not valid. It must have exactly one @-sign. [type=value_error, input_value='peter', input_type=str]\n"
     ]
    }
   ],
   "source": [
    "bad_email_data = {\"name\": \"Peter\", \"age\": 35, \"email\": \"peter\"}\n",
    "try:\n",
    "    peter = PersonWithValidation(**bad_email_data)\n",
    "except ValidationError as e:\n",
    "    print(e)"
   ]
  },
  {
   "cell_type": "code",
   "execution_count": 27,
   "metadata": {},
   "outputs": [
    {
     "ename": "ValidationError",
     "evalue": "1 validation error for PersonWithValidation\nname\n  Input should be a valid dictionary or instance of NameStartWithP [type=model_type, input_value='John', input_type=str]\n    For further information visit https://errors.pydantic.dev/2.6/v/model_type",
     "output_type": "error",
     "traceback": [
      "\u001b[0;31m---------------------------------------------------------------------------\u001b[0m",
      "\u001b[0;31mValidationError\u001b[0m                           Traceback (most recent call last)",
      "Cell \u001b[0;32mIn[27], line 9\u001b[0m\n\u001b[1;32m      6\u001b[0m     age: PositiveInt\n\u001b[1;32m      7\u001b[0m     email: EmailStr \u001b[38;5;241m|\u001b[39m \u001b[38;5;28;01mNone\u001b[39;00m \u001b[38;5;241m=\u001b[39m \u001b[38;5;28;01mNone\u001b[39;00m\n\u001b[0;32m----> 9\u001b[0m peter \u001b[38;5;241m=\u001b[39m \u001b[43mPersonWithValidation\u001b[49m\u001b[43m(\u001b[49m\u001b[43mname\u001b[49m\u001b[38;5;241;43m=\u001b[39;49m\u001b[38;5;124;43m\"\u001b[39;49m\u001b[38;5;124;43mJohn\u001b[39;49m\u001b[38;5;124;43m\"\u001b[39;49m\u001b[43m,\u001b[49m\u001b[43m \u001b[49m\u001b[43mage\u001b[49m\u001b[38;5;241;43m=\u001b[39;49m\u001b[38;5;241;43m35\u001b[39;49m\u001b[43m)\u001b[49m\n\u001b[1;32m     10\u001b[0m \u001b[38;5;28;01mtry\u001b[39;00m:\n\u001b[1;32m     11\u001b[0m     peter \u001b[38;5;241m=\u001b[39m PersonWithValidation(name\u001b[38;5;241m=\u001b[39m\u001b[38;5;124m\"\u001b[39m\u001b[38;5;124mJohn\u001b[39m\u001b[38;5;124m\"\u001b[39m, age\u001b[38;5;241m=\u001b[39m\u001b[38;5;241m35\u001b[39m)\n",
      "File \u001b[0;32m~/Documents/PrivateRepos/PydanticExamples2/env/lib/python3.10/site-packages/pydantic/main.py:171\u001b[0m, in \u001b[0;36mBaseModel.__init__\u001b[0;34m(self, **data)\u001b[0m\n\u001b[1;32m    169\u001b[0m \u001b[38;5;66;03m# `__tracebackhide__` tells pytest and some other tools to omit this function from tracebacks\u001b[39;00m\n\u001b[1;32m    170\u001b[0m __tracebackhide__ \u001b[38;5;241m=\u001b[39m \u001b[38;5;28;01mTrue\u001b[39;00m\n\u001b[0;32m--> 171\u001b[0m \u001b[38;5;28;43mself\u001b[39;49m\u001b[38;5;241;43m.\u001b[39;49m\u001b[43m__pydantic_validator__\u001b[49m\u001b[38;5;241;43m.\u001b[39;49m\u001b[43mvalidate_python\u001b[49m\u001b[43m(\u001b[49m\u001b[43mdata\u001b[49m\u001b[43m,\u001b[49m\u001b[43m \u001b[49m\u001b[43mself_instance\u001b[49m\u001b[38;5;241;43m=\u001b[39;49m\u001b[38;5;28;43mself\u001b[39;49m\u001b[43m)\u001b[49m\n",
      "\u001b[0;31mValidationError\u001b[0m: 1 validation error for PersonWithValidation\nname\n  Input should be a valid dictionary or instance of NameStartWithP [type=model_type, input_value='John', input_type=str]\n    For further information visit https://errors.pydantic.dev/2.6/v/model_type"
     ]
    }
   ],
   "source": [
    "class NameStartWithP(BaseModel):\n",
    "    name: str = Field(min_length=3, max_length=50, pattern=\"^P.*$\")\n",
    "\n",
    "class PersonWithValidation(BaseModel):\n",
    "    name: NameStartWithP\n",
    "    age: PositiveInt\n",
    "    email: EmailStr | None = None\n",
    "\n",
    "peter = PersonWithValidation(name=\"John\", age=35)\n",
    "try:\n",
    "    peter = PersonWithValidation(name=\"John\", age=35)\n",
    "except ValidationError as e:\n",
    "    print(e)"
   ]
  },
  {
   "cell_type": "code",
   "execution_count": 28,
   "metadata": {},
   "outputs": [
    {
     "name": "stdout",
     "output_type": "stream",
     "text": [
      "name='Peter' surname='Smith'\n"
     ]
    },
    {
     "ename": "ValidationError",
     "evalue": "1 validation error for UserModel\n  Value error, name and surname must be different [type=value_error, input_value={'name': 'Peter', 'surname': 'Peter'}, input_type=dict]\n    For further information visit https://errors.pydantic.dev/2.6/v/value_error",
     "output_type": "error",
     "traceback": [
      "\u001b[0;31m---------------------------------------------------------------------------\u001b[0m",
      "\u001b[0;31mValidationError\u001b[0m                           Traceback (most recent call last)",
      "Cell \u001b[0;32mIn[28], line 23\u001b[0m\n\u001b[1;32m     21\u001b[0m user_model_correct \u001b[38;5;241m=\u001b[39m UserModel(name\u001b[38;5;241m=\u001b[39m\u001b[38;5;124m\"\u001b[39m\u001b[38;5;124mPeter\u001b[39m\u001b[38;5;124m\"\u001b[39m, surname\u001b[38;5;241m=\u001b[39m\u001b[38;5;124m\"\u001b[39m\u001b[38;5;124mSmith\u001b[39m\u001b[38;5;124m\"\u001b[39m)\n\u001b[1;32m     22\u001b[0m \u001b[38;5;28mprint\u001b[39m(user_model_correct)\n\u001b[0;32m---> 23\u001b[0m user_model_incorrect \u001b[38;5;241m=\u001b[39m \u001b[43mUserModel\u001b[49m\u001b[43m(\u001b[49m\u001b[43mname\u001b[49m\u001b[38;5;241;43m=\u001b[39;49m\u001b[38;5;124;43m\"\u001b[39;49m\u001b[38;5;124;43mPeter\u001b[39;49m\u001b[38;5;124;43m\"\u001b[39;49m\u001b[43m,\u001b[49m\u001b[43m \u001b[49m\u001b[43msurname\u001b[49m\u001b[38;5;241;43m=\u001b[39;49m\u001b[38;5;124;43m\"\u001b[39;49m\u001b[38;5;124;43mPeter\u001b[39;49m\u001b[38;5;124;43m\"\u001b[39;49m\u001b[43m)\u001b[49m\n\u001b[1;32m     24\u001b[0m \u001b[38;5;28;01mtry\u001b[39;00m:\n\u001b[1;32m     25\u001b[0m     user_model_incorrect \u001b[38;5;241m=\u001b[39m UserModel(name\u001b[38;5;241m=\u001b[39m\u001b[38;5;124m\"\u001b[39m\u001b[38;5;124mPeter\u001b[39m\u001b[38;5;124m\"\u001b[39m, surname\u001b[38;5;241m=\u001b[39m\u001b[38;5;124m\"\u001b[39m\u001b[38;5;124mPeter\u001b[39m\u001b[38;5;124m\"\u001b[39m)\n",
      "File \u001b[0;32m~/Documents/PrivateRepos/PydanticExamples2/env/lib/python3.10/site-packages/pydantic/main.py:171\u001b[0m, in \u001b[0;36mBaseModel.__init__\u001b[0;34m(self, **data)\u001b[0m\n\u001b[1;32m    169\u001b[0m \u001b[38;5;66;03m# `__tracebackhide__` tells pytest and some other tools to omit this function from tracebacks\u001b[39;00m\n\u001b[1;32m    170\u001b[0m __tracebackhide__ \u001b[38;5;241m=\u001b[39m \u001b[38;5;28;01mTrue\u001b[39;00m\n\u001b[0;32m--> 171\u001b[0m \u001b[38;5;28;43mself\u001b[39;49m\u001b[38;5;241;43m.\u001b[39;49m\u001b[43m__pydantic_validator__\u001b[49m\u001b[38;5;241;43m.\u001b[39;49m\u001b[43mvalidate_python\u001b[49m\u001b[43m(\u001b[49m\u001b[43mdata\u001b[49m\u001b[43m,\u001b[49m\u001b[43m \u001b[49m\u001b[43mself_instance\u001b[49m\u001b[38;5;241;43m=\u001b[39;49m\u001b[38;5;28;43mself\u001b[39;49m\u001b[43m)\u001b[49m\n",
      "\u001b[0;31mValidationError\u001b[0m: 1 validation error for UserModel\n  Value error, name and surname must be different [type=value_error, input_value={'name': 'Peter', 'surname': 'Peter'}, input_type=dict]\n    For further information visit https://errors.pydantic.dev/2.6/v/value_error"
     ]
    }
   ],
   "source": [
    "from pydantic import field_validator, model_validator\n",
    "\n",
    "\n",
    "class UserModel(BaseModel):\n",
    "    name: str\n",
    "    surname: str\n",
    "\n",
    "    @field_validator('name')\n",
    "    @classmethod\n",
    "    def name_must_start_with_capital_letter(cls, v: str) -> str:\n",
    "        if not v[0].isupper():\n",
    "            raise ValueError('name must start with a capital letter')\n",
    "        return v\n",
    "    \n",
    "    @model_validator(mode='after')\n",
    "    def name_and_surname_must_be_different(self) -> 'UserModel':\n",
    "        if self.name == self.surname:\n",
    "            raise ValueError('name and surname must be different')\n",
    "        return self\n",
    "\n",
    "user_model_correct = UserModel(name=\"Peter\", surname=\"Smith\")\n",
    "print(user_model_correct)\n",
    "user_model_incorrect = UserModel(name=\"Peter\", surname=\"Peter\")\n",
    "try:\n",
    "    user_model_incorrect = UserModel(name=\"Peter\", surname=\"Peter\")\n",
    "except ValidationError as e:\n",
    "    print(e)"
   ]
  },
  {
   "cell_type": "code",
   "execution_count": 26,
   "metadata": {},
   "outputs": [
    {
     "name": "stdout",
     "output_type": "stream",
     "text": [
      "width=10.0 height=20.0 area=200.0\n",
      "200.0\n"
     ]
    }
   ],
   "source": [
    "from pydantic import computed_field\n",
    "\n",
    "\n",
    "class BoundingBox(BaseModel):\n",
    "    width: float\n",
    "    height: float\n",
    "\n",
    "    @computed_field\n",
    "    def area(self) -> float:\n",
    "        return self.width * self.height\n",
    "\n",
    "box = BoundingBox(width=10, height=20)\n",
    "print(box)\n",
    "print(box.area)"
   ]
  }
 ],
 "metadata": {
  "kernelspec": {
   "display_name": "env",
   "language": "python",
   "name": "python3"
  },
  "language_info": {
   "codemirror_mode": {
    "name": "ipython",
    "version": 3
   },
   "file_extension": ".py",
   "mimetype": "text/x-python",
   "name": "python",
   "nbconvert_exporter": "python",
   "pygments_lexer": "ipython3",
   "version": "3.10.9"
  }
 },
 "nbformat": 4,
 "nbformat_minor": 2
}
