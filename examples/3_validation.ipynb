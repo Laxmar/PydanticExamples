{
 "cells": [
  {
   "cell_type": "code",
   "execution_count": null,
   "metadata": {},
   "outputs": [],
   "source": [
    "# Validation with Pydantic\n",
    "from pydantic import BaseModel, EmailStr, Field, PositiveInt, ValidationError\n",
    "# EmailStr requires pip install pydantic[email]"
   ]
  },
  {
   "cell_type": "code",
   "execution_count": 8,
   "metadata": {},
   "outputs": [],
   "source": [
    "class PersonWithValidation(BaseModel):\n",
    "    name: str = Field(min_length=3, max_length=50)\n",
    "    age: PositiveInt\n",
    "    email: EmailStr | None = None"
   ]
  },
  {
   "cell_type": "code",
   "execution_count": null,
   "metadata": {},
   "outputs": [],
   "source": [
    "\n",
    "peter = PersonWithValidation(name=\"Peter\", age=35, email=\"peter@my.com\")"
   ]
  },
  {
   "cell_type": "code",
   "execution_count": 9,
   "metadata": {},
   "outputs": [
    {
     "name": "stdout",
     "output_type": "stream",
     "text": [
      "1 validation error for PersonWithValidation\n",
      "name\n",
      "  String should have at least 3 characters [type=string_too_short, input_value='Pe', input_type=str]\n",
      "    For further information visit https://errors.pydantic.dev/2.6/v/string_too_short\n"
     ]
    }
   ],
   "source": [
    "to_short_name_data = {\"name\": \"Pe\", \"age\": 35}\n",
    "\n",
    "try:\n",
    "    peter = PersonWithValidation(**to_short_name_data)\n",
    "except ValidationError as e:\n",
    "    print(e)"
   ]
  },
  {
   "cell_type": "code",
   "execution_count": 10,
   "metadata": {},
   "outputs": [
    {
     "name": "stdout",
     "output_type": "stream",
     "text": [
      "1 validation error for PersonWithValidation\n",
      "email\n",
      "  value is not a valid email address: The email address is not valid. It must have exactly one @-sign. [type=value_error, input_value='peter', input_type=str]\n"
     ]
    }
   ],
   "source": [
    "bad_email_data = {\"name\": \"Peter\", \"age\": 35, \"email\": \"peter\"}\n",
    "\n",
    "try:\n",
    "    peter = PersonWithValidation(**bad_email_data)\n",
    "except ValidationError as e:\n",
    "    print(e)"
   ]
  },
  {
   "cell_type": "code",
   "execution_count": 11,
   "metadata": {},
   "outputs": [
    {
     "name": "stdout",
     "output_type": "stream",
     "text": [
      "1 validation error for PersonWithValidation\n",
      "age\n",
      "  Input should be greater than 0 [type=greater_than, input_value=-35, input_type=int]\n",
      "    For further information visit https://errors.pydantic.dev/2.6/v/greater_than\n"
     ]
    }
   ],
   "source": [
    "negative_age_data = {\"name\": \"Peter\", \"age\": -35}\n",
    "\n",
    "try:\n",
    "    peter = PersonWithValidation(**negative_age_data)\n",
    "except ValidationError as e:\n",
    "    print(e)"
   ]
  }
 ],
 "metadata": {
  "kernelspec": {
   "display_name": "env",
   "language": "python",
   "name": "python3"
  },
  "language_info": {
   "codemirror_mode": {
    "name": "ipython",
    "version": 3
   },
   "file_extension": ".py",
   "mimetype": "text/x-python",
   "name": "python",
   "nbconvert_exporter": "python",
   "pygments_lexer": "ipython3",
   "version": "3.10.9"
  }
 },
 "nbformat": 4,
 "nbformat_minor": 2
}
