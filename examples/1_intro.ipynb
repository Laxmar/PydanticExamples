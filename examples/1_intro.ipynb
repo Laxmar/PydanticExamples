{
 "cells": [
  {
   "cell_type": "code",
   "execution_count": 2,
   "metadata": {},
   "outputs": [],
   "source": [
    "from dataclasses import dataclass\n",
    "from pydantic import BaseModel"
   ]
  },
  {
   "cell_type": "code",
   "execution_count": 3,
   "metadata": {},
   "outputs": [],
   "source": [
    "@dataclass\n",
    "class PersonDataClass:\n",
    "\tname: str\n",
    "\tage: int = 0\n",
    "\temail: str | None = None"
   ]
  },
  {
   "cell_type": "code",
   "execution_count": 4,
   "metadata": {},
   "outputs": [],
   "source": [
    "class PersonPydantic(BaseModel):\n",
    "\tname: str\n",
    "\tage: int = 0\n",
    "\temail: str | None = None"
   ]
  },
  {
   "cell_type": "code",
   "execution_count": 9,
   "metadata": {},
   "outputs": [
    {
     "name": "stdout",
     "output_type": "stream",
     "text": [
      "Using Dataclass: PersonDataClass(name='Peter', age=35, email=None)\n",
      "Using Pydantic: name='Peter' age=35 email=None\n"
     ]
    }
   ],
   "source": [
    "# Simple usage\n",
    "peter_dataclass = PersonDataClass(name=\"Peter\", age=35)\n",
    "print(f'Using Dataclass: {peter_dataclass}')\n",
    "peter_pydantic = PersonPydantic(name=\"Peter\", age=35)\n",
    "print(f'Using Pydantic: {peter_pydantic}')"
   ]
  },
  {
   "cell_type": "code",
   "execution_count": 12,
   "metadata": {},
   "outputs": [
    {
     "name": "stdout",
     "output_type": "stream",
     "text": [
      "Using Dataclass: PersonDataClass(name='Peter', age=35, email=None)\n"
     ]
    },
    {
     "ename": "TypeError",
     "evalue": "BaseModel.__init__() takes 1 positional argument but 3 were given",
     "output_type": "error",
     "traceback": [
      "\u001b[0;31m---------------------------------------------------------------------------\u001b[0m",
      "\u001b[0;31mTypeError\u001b[0m                                 Traceback (most recent call last)",
      "Cell \u001b[0;32mIn[12], line 5\u001b[0m\n\u001b[1;32m      2\u001b[0m \u001b[38;5;28mprint\u001b[39m(\u001b[38;5;124mf\u001b[39m\u001b[38;5;124m'\u001b[39m\u001b[38;5;124mUsing Dataclass: \u001b[39m\u001b[38;5;132;01m{\u001b[39;00mpeter_dataclass\u001b[38;5;132;01m}\u001b[39;00m\u001b[38;5;124m'\u001b[39m)\n\u001b[1;32m      4\u001b[0m \u001b[38;5;66;03m# We Pydantic cannot use without positional arguments\u001b[39;00m\n\u001b[0;32m----> 5\u001b[0m peter_pydantic \u001b[38;5;241m=\u001b[39m \u001b[43mPersonPydantic\u001b[49m\u001b[43m(\u001b[49m\u001b[38;5;124;43m\"\u001b[39;49m\u001b[38;5;124;43mPeter\u001b[39;49m\u001b[38;5;124;43m\"\u001b[39;49m\u001b[43m,\u001b[49m\u001b[43m \u001b[49m\u001b[38;5;241;43m35\u001b[39;49m\u001b[43m)\u001b[49m\n\u001b[1;32m      6\u001b[0m \u001b[38;5;28mprint\u001b[39m(\u001b[38;5;124mf\u001b[39m\u001b[38;5;124m'\u001b[39m\u001b[38;5;124mUsing Pydantic: \u001b[39m\u001b[38;5;132;01m{\u001b[39;00mpeter_pydantic\u001b[38;5;132;01m}\u001b[39;00m\u001b[38;5;124m'\u001b[39m)\n",
      "\u001b[0;31mTypeError\u001b[0m: BaseModel.__init__() takes 1 positional argument but 3 were given"
     ]
    }
   ],
   "source": [
    "peter_dataclass = PersonDataClass(\"Peter\", 35)\n",
    "print(f'Using Dataclass: {peter_dataclass}')\n",
    "\n",
    "# We Pydantic cannot use without positional arguments\n",
    "peter_pydantic = PersonPydantic(\"Peter\", 35)\n",
    "print(f'Using Pydantic: {peter_pydantic}')\n"
   ]
  },
  {
   "cell_type": "code",
   "execution_count": null,
   "metadata": {},
   "outputs": [
    {
     "name": "stdout",
     "output_type": "stream",
     "text": [
      "Using Dataclass: PersonDataClass(name='Martin', age=35, email='martin@doublephd.com')\n",
      "Using Pydantic: name='Martin' age=35 email='martin@doublephd.com'\n",
      "Using Pydantic: name='Martin' age=35 email='martin@doublephd.com'\n"
     ]
    }
   ],
   "source": [
    "# Initialize with dictionary\n",
    "martin_data = {\"name\": \"Martin\", \"age\": 35, \"email\": \"martin@doublephd.com\"}\n",
    "martin_dataclass = PersonDataClass(**martin_data)\n",
    "print(f'Using Dataclass: {martin_dataclass}')\n",
    "\n",
    "martin_pydantic = PersonPydantic(**martin_data)\n",
    "print(f'Using Pydantic: {martin_pydantic}')\n",
    "\n",
    "# The same and make a Pylance happy\n",
    "martin_pydantic = PersonPydantic.model_validate(martin_data)\n",
    "print(f'Using Pydantic: {martin_pydantic}')"
   ]
  },
  {
   "cell_type": "code",
   "execution_count": null,
   "metadata": {},
   "outputs": [
    {
     "name": "stdout",
     "output_type": "stream",
     "text": [
      "Using Dataclass: {'age': 'John', 'name': 35}\n"
     ]
    },
    {
     "ename": "ValidationError",
     "evalue": "2 validation errors for PersonPydantic\nname\n  Input should be a valid string [type=string_type, input_value=35, input_type=int]\n    For further information visit https://errors.pydantic.dev/2.6/v/string_type\nage\n  Input should be a valid integer, unable to parse string as an integer [type=int_parsing, input_value='John', input_type=str]\n    For further information visit https://errors.pydantic.dev/2.6/v/int_parsing",
     "output_type": "error",
     "traceback": [
      "\u001b[0;31m---------------------------------------------------------------------------\u001b[0m",
      "\u001b[0;31mValidationError\u001b[0m                           Traceback (most recent call last)",
      "Cell \u001b[0;32mIn[10], line 8\u001b[0m\n\u001b[1;32m      5\u001b[0m \u001b[38;5;28mprint\u001b[39m(\u001b[38;5;124mf\u001b[39m\u001b[38;5;124m'\u001b[39m\u001b[38;5;124mUsing Dataclass: \u001b[39m\u001b[38;5;132;01m{\u001b[39;00mjohn_data\u001b[38;5;132;01m}\u001b[39;00m\u001b[38;5;124m'\u001b[39m)\n\u001b[1;32m      6\u001b[0m \u001b[38;5;66;03m# No Validation!\u001b[39;00m\n\u001b[0;32m----> 8\u001b[0m john_pydantic \u001b[38;5;241m=\u001b[39m \u001b[43mPersonPydantic\u001b[49m\u001b[43m(\u001b[49m\u001b[38;5;241;43m*\u001b[39;49m\u001b[38;5;241;43m*\u001b[39;49m\u001b[43mjohn_data\u001b[49m\u001b[43m)\u001b[49m\n\u001b[1;32m      9\u001b[0m \u001b[38;5;28mprint\u001b[39m(\u001b[38;5;124mf\u001b[39m\u001b[38;5;124m'\u001b[39m\u001b[38;5;124mUsing Pydantic: \u001b[39m\u001b[38;5;132;01m{\u001b[39;00mjohn_pydantic\u001b[38;5;132;01m}\u001b[39;00m\u001b[38;5;124m'\u001b[39m)\n",
      "File \u001b[0;32m~/Documents/PrivateRepos/PydanticExamples2/env/lib/python3.10/site-packages/pydantic/main.py:171\u001b[0m, in \u001b[0;36mBaseModel.__init__\u001b[0;34m(self, **data)\u001b[0m\n\u001b[1;32m    169\u001b[0m \u001b[38;5;66;03m# `__tracebackhide__` tells pytest and some other tools to omit this function from tracebacks\u001b[39;00m\n\u001b[1;32m    170\u001b[0m __tracebackhide__ \u001b[38;5;241m=\u001b[39m \u001b[38;5;28;01mTrue\u001b[39;00m\n\u001b[0;32m--> 171\u001b[0m \u001b[38;5;28;43mself\u001b[39;49m\u001b[38;5;241;43m.\u001b[39;49m\u001b[43m__pydantic_validator__\u001b[49m\u001b[38;5;241;43m.\u001b[39;49m\u001b[43mvalidate_python\u001b[49m\u001b[43m(\u001b[49m\u001b[43mdata\u001b[49m\u001b[43m,\u001b[49m\u001b[43m \u001b[49m\u001b[43mself_instance\u001b[49m\u001b[38;5;241;43m=\u001b[39;49m\u001b[38;5;28;43mself\u001b[39;49m\u001b[43m)\u001b[49m\n",
      "\u001b[0;31mValidationError\u001b[0m: 2 validation errors for PersonPydantic\nname\n  Input should be a valid string [type=string_type, input_value=35, input_type=int]\n    For further information visit https://errors.pydantic.dev/2.6/v/string_type\nage\n  Input should be a valid integer, unable to parse string as an integer [type=int_parsing, input_value='John', input_type=str]\n    For further information visit https://errors.pydantic.dev/2.6/v/int_parsing"
     ]
    }
   ],
   "source": [
    "### Validation\n",
    "\n",
    "john_data_swapped = {\"age\": \"John\", \"name\": 35}\n",
    "john_dataclass = PersonDataClass(**john_data_swapped)\n",
    "print(f'Using Dataclass: {john_data_swapped}')\n",
    "# No Validation!\n",
    "\n",
    "john_pydantic = PersonPydantic(**john_data_swapped)\n",
    "print(f'Using Pydantic: {john_pydantic}')"
   ]
  },
  {
   "cell_type": "code",
   "execution_count": 7,
   "metadata": {},
   "outputs": [
    {
     "name": "stdout",
     "output_type": "stream",
     "text": [
      "Using Dataclass: PersonDataClass(name='Jacob', age='44', email=None)\n",
      "Type of age: <class 'str'>\n",
      "Using Pydantic: name='Jacob' age=44 email=None\n",
      "Type of age: <class 'int'>\n"
     ]
    }
   ],
   "source": [
    "## Coercions\n",
    "\n",
    "jacob = {\"name\": \"Jacob\", \"age\": \"44\" }\n",
    "jacob_dataclass = PersonDataClass(**jacob)\n",
    "print(f'Using Dataclass: {jacob_dataclass}')\n",
    "print(f'Type of age: {type(jacob_dataclass.age)}')\n",
    "\n",
    "jacob_pydantic = PersonPydantic(**jacob)\n",
    "print(f'Using Pydantic: {jacob_pydantic}')\n",
    "print(f'Type of age: {type(jacob_pydantic.age)}')"
   ]
  },
  {
   "cell_type": "code",
   "execution_count": 8,
   "metadata": {},
   "outputs": [
    {
     "ename": "ValidationError",
     "evalue": "1 validation error for PersonPydantic\nage\n  Input should be a valid integer [type=int_type, input_value='44', input_type=str]\n    For further information visit https://errors.pydantic.dev/2.6/v/int_type",
     "output_type": "error",
     "traceback": [
      "\u001b[0;31m---------------------------------------------------------------------------\u001b[0m",
      "\u001b[0;31mValidationError\u001b[0m                           Traceback (most recent call last)",
      "Cell \u001b[0;32mIn[8], line 1\u001b[0m\n\u001b[0;32m----> 1\u001b[0m jacob_pydantic \u001b[38;5;241m=\u001b[39m \u001b[43mPersonPydantic\u001b[49m\u001b[38;5;241;43m.\u001b[39;49m\u001b[43mmodel_validate\u001b[49m\u001b[43m(\u001b[49m\u001b[43mjacob\u001b[49m\u001b[43m,\u001b[49m\u001b[43m \u001b[49m\u001b[43mstrict\u001b[49m\u001b[38;5;241;43m=\u001b[39;49m\u001b[38;5;28;43;01mTrue\u001b[39;49;00m\u001b[43m)\u001b[49m\n",
      "File \u001b[0;32m~/Documents/PrivateRepos/PydanticExamples2/env/lib/python3.10/site-packages/pydantic/main.py:509\u001b[0m, in \u001b[0;36mBaseModel.model_validate\u001b[0;34m(cls, obj, strict, from_attributes, context)\u001b[0m\n\u001b[1;32m    507\u001b[0m \u001b[38;5;66;03m# `__tracebackhide__` tells pytest and some other tools to omit this function from tracebacks\u001b[39;00m\n\u001b[1;32m    508\u001b[0m __tracebackhide__ \u001b[38;5;241m=\u001b[39m \u001b[38;5;28;01mTrue\u001b[39;00m\n\u001b[0;32m--> 509\u001b[0m \u001b[38;5;28;01mreturn\u001b[39;00m \u001b[38;5;28;43mcls\u001b[39;49m\u001b[38;5;241;43m.\u001b[39;49m\u001b[43m__pydantic_validator__\u001b[49m\u001b[38;5;241;43m.\u001b[39;49m\u001b[43mvalidate_python\u001b[49m\u001b[43m(\u001b[49m\n\u001b[1;32m    510\u001b[0m \u001b[43m    \u001b[49m\u001b[43mobj\u001b[49m\u001b[43m,\u001b[49m\u001b[43m \u001b[49m\u001b[43mstrict\u001b[49m\u001b[38;5;241;43m=\u001b[39;49m\u001b[43mstrict\u001b[49m\u001b[43m,\u001b[49m\u001b[43m \u001b[49m\u001b[43mfrom_attributes\u001b[49m\u001b[38;5;241;43m=\u001b[39;49m\u001b[43mfrom_attributes\u001b[49m\u001b[43m,\u001b[49m\u001b[43m \u001b[49m\u001b[43mcontext\u001b[49m\u001b[38;5;241;43m=\u001b[39;49m\u001b[43mcontext\u001b[49m\n\u001b[1;32m    511\u001b[0m \u001b[43m\u001b[49m\u001b[43m)\u001b[49m\n",
      "\u001b[0;31mValidationError\u001b[0m: 1 validation error for PersonPydantic\nage\n  Input should be a valid integer [type=int_type, input_value='44', input_type=str]\n    For further information visit https://errors.pydantic.dev/2.6/v/int_type"
     ]
    }
   ],
   "source": [
    "jacob_pydantic = PersonPydantic.model_validate(jacob, strict=True)"
   ]
  }
 ],
 "metadata": {
  "kernelspec": {
   "display_name": "env",
   "language": "python",
   "name": "python3"
  },
  "language_info": {
   "codemirror_mode": {
    "name": "ipython",
    "version": 3
   },
   "file_extension": ".py",
   "mimetype": "text/x-python",
   "name": "python",
   "nbconvert_exporter": "python",
   "pygments_lexer": "ipython3",
   "version": "3.10.9"
  }
 },
 "nbformat": 4,
 "nbformat_minor": 2
}
