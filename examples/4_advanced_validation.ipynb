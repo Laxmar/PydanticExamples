{
 "cells": [
  {
   "cell_type": "code",
   "execution_count": 34,
   "metadata": {},
   "outputs": [],
   "source": [
    "\n",
    "\n",
    "from typing import Annotated\n",
    "from pydantic import BaseModel, EmailStr, Field, PositiveInt, StringConstraints, ValidationError\n",
    "\n",
    "\n",
    "class Employee(BaseModel):\n",
    "    age: PositiveInt\n",
    "    email: EmailStr | None = None\n",
    "    name: Annotated[str, StringConstraints(min_length=3, max_length=50, pattern=\"^P.*$\")]\n",
    "    salary: Annotated[float, Field(gt=100)]\n",
    "\n",
    "peter = Employee(name=\"Peter\", age=35, salary=1000.0)\n"
   ]
  },
  {
   "cell_type": "code",
   "execution_count": 29,
   "metadata": {},
   "outputs": [
    {
     "name": "stdout",
     "output_type": "stream",
     "text": [
      "2 validation errors for PersonWithValidation\n",
      "name\n",
      "  String should match pattern '^P.*$' [type=string_pattern_mismatch, input_value='John', input_type=str]\n",
      "    For further information visit https://errors.pydantic.dev/2.6/v/string_pattern_mismatch\n",
      "salary\n",
      "  Input should be greater than 100 [type=greater_than, input_value=50.0, input_type=float]\n",
      "    For further information visit https://errors.pydantic.dev/2.6/v/greater_than\n"
     ]
    }
   ],
   "source": [
    "try:\n",
    "    john = Employee(name=\"John\", age=35, salary=50.0)\n",
    "except ValidationError as e:\n",
    "    print(e)"
   ]
  },
  {
   "cell_type": "code",
   "execution_count": 35,
   "metadata": {},
   "outputs": [
    {
     "name": "stdout",
     "output_type": "stream",
     "text": [
      "name='Peter' surname='Smith'\n"
     ]
    }
   ],
   "source": [
    "from pydantic import field_validator, model_validator\n",
    "\n",
    "\n",
    "class UserModel(BaseModel):\n",
    "    name: str\n",
    "    surname: str\n",
    "\n",
    "    @field_validator('name')\n",
    "    @classmethod\n",
    "    def name_must_start_with_capital_letter(cls, v: str) -> str:\n",
    "        if not v[0].isupper():\n",
    "            raise ValueError('name must start with a capital letter')\n",
    "        return v\n",
    "\n",
    "    @model_validator(mode='after') # type: ignore\n",
    "    def name_and_surname_must_be_different(self) -> 'UserModel':\n",
    "        if self.name == self.surname:\n",
    "            raise ValueError('name and surname must be different')\n",
    "        return self\n",
    "\n",
    "user_model_correct = UserModel(name=\"Peter\", surname=\"Smith\")\n",
    "print(user_model_correct)\n"
   ]
  },
  {
   "cell_type": "code",
   "execution_count": 32,
   "metadata": {},
   "outputs": [
    {
     "name": "stdout",
     "output_type": "stream",
     "text": [
      "1 validation error for UserModel\n",
      "  Value error, name and surname must be different [type=value_error, input_value={'name': 'Peter', 'surname': 'Peter'}, input_type=dict]\n",
      "    For further information visit https://errors.pydantic.dev/2.6/v/value_error\n"
     ]
    }
   ],
   "source": [
    "try:\n",
    "    user_model_incorrect = UserModel(name=\"Peter\", surname=\"Peter\")\n",
    "except ValidationError as e:\n",
    "    print(e)"
   ]
  }
 ],
 "metadata": {
  "kernelspec": {
   "display_name": "env",
   "language": "python",
   "name": "python3"
  },
  "language_info": {
   "codemirror_mode": {
    "name": "ipython",
    "version": 3
   },
   "file_extension": ".py",
   "mimetype": "text/x-python",
   "name": "python",
   "nbconvert_exporter": "python",
   "pygments_lexer": "ipython3",
   "version": "3.10.9"
  }
 },
 "nbformat": 4,
 "nbformat_minor": 2
}
